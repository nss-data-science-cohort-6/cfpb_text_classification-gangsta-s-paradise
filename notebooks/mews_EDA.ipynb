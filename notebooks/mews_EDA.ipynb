{
 "cells": [
  {
   "cell_type": "code",
   "execution_count": null,
   "id": "71af6592",
   "metadata": {},
   "outputs": [],
   "source": [
    "import pandas as pd\n",
    "import numpy as np\n",
    "\n",
    "from collections import Counter\n",
    "from nltk import sent_tokenize, word_tokenize, regexp_tokenize\n",
    "from nltk.corpus import stopwords"
   ]
  },
  {
   "cell_type": "code",
   "execution_count": null,
   "id": "f31e00b9",
   "metadata": {},
   "outputs": [],
   "source": [
    "complaints = pd.read_csv('../data/complaints.csv')\n",
    "\n",
    "complaints.info()"
   ]
  },
  {
   "cell_type": "code",
   "execution_count": null,
   "id": "333acf0a",
   "metadata": {},
   "outputs": [],
   "source": [
    "complaints.head()"
   ]
  },
  {
   "cell_type": "code",
   "execution_count": null,
   "id": "7157f526",
   "metadata": {},
   "outputs": [],
   "source": [
    "# Complaints by Issue\n",
    "complaints['Issue'].value_counts().reset_index().rename(columns = {'index': 'category', 'Issue' : 'count'})"
   ]
  },
  {
   "cell_type": "code",
   "execution_count": null,
   "id": "f86282f8",
   "metadata": {},
   "outputs": [],
   "source": [
    "# Simplify column names\n",
    "complaints.columns = ['complaint', 'category']\n",
    "complaints"
   ]
  },
  {
   "cell_type": "code",
   "execution_count": null,
   "id": "933d92f9",
   "metadata": {},
   "outputs": [],
   "source": [
    "# Create columns with word count, character count, and average word length for each complaint\n",
    "complaints['word_count'] = complaints['complaint'].str.split().str.len()\n",
    "complaints['char_count'] = complaints['complaint'].str.len()\n",
    "complaints['avg_word_len'] = complaints['char_count'] / complaints['word_count']"
   ]
  },
  {
   "cell_type": "markdown",
   "id": "a4cc3a17",
   "metadata": {},
   "source": [
    "#### Explore duplicate complaints"
   ]
  },
  {
   "cell_type": "code",
   "execution_count": null,
   "id": "2e616e38",
   "metadata": {
    "scrolled": true
   },
   "outputs": [],
   "source": [
    "dups = complaints.loc[complaints['complaint'].duplicated(keep=False)].sort_values('complaint')"
   ]
  },
  {
   "cell_type": "code",
   "execution_count": null,
   "id": "62654288",
   "metadata": {},
   "outputs": [],
   "source": [
    "# See how many categories are applied to the duplicate complaints\n",
    "dups.groupby('complaint')['category'].nunique().reset_index().sort_values('category')#.iloc[201, 0]"
   ]
  },
  {
   "cell_type": "markdown",
   "id": "19d215d2",
   "metadata": {},
   "source": [
    "Discovered that for at least one complaint, nearly the exact same text was submitted over 100 times. Based on the specifics included in the consistent portions of the text, quite confident this is the same person doing something like copying and pasting almost exactly the same thing over and over"
   ]
  },
  {
   "cell_type": "code",
   "execution_count": null,
   "id": "db8f3b55",
   "metadata": {},
   "outputs": [],
   "source": [
    "complaints.loc[complaints['complaint'].str.contains('My information was used to obtain an apartment, cell phone, and an auto loan with my ex-partner. I am a victim of identity theft and have put this off for too long')]#['category'].value_counts()"
   ]
  },
  {
   "cell_type": "markdown",
   "id": "82dbc100",
   "metadata": {},
   "source": [
    "#### Make some plots"
   ]
  },
  {
   "cell_type": "code",
   "execution_count": null,
   "id": "f1e392ff",
   "metadata": {},
   "outputs": [],
   "source": [
    "import plotly.express as px"
   ]
  },
  {
   "cell_type": "code",
   "execution_count": null,
   "id": "ab6be58e",
   "metadata": {},
   "outputs": [],
   "source": [
    "complaints['category'].value_counts().reset_index()"
   ]
  },
  {
   "cell_type": "code",
   "execution_count": null,
   "id": "94df17c9",
   "metadata": {},
   "outputs": [],
   "source": [
    "# Number of complaints by category\n",
    "df = complaints['category'].value_counts().reset_index().rename(columns = { 'category' : 'count', 'index': 'category'})\n",
    "\n",
    "fig = px.bar(df, x = 'count', y = 'category')\n",
    "fig.show()"
   ]
  },
  {
   "cell_type": "code",
   "execution_count": null,
   "id": "e7f31f06",
   "metadata": {},
   "outputs": [],
   "source": [
    "# Create a aggregated data frame, grouped by category\n",
    "complaint_overview = complaints.groupby('category').agg(\n",
    "    avg_wc = ('word_count', 'mean'),\n",
    "    max_wc = ('word_count', 'max'),\n",
    "    avg_cc = ('char_count', 'mean'),\n",
    "    total_complaints = ('complaint', 'count'),\n",
    "    avg_word_len = ('avg_word_len', 'mean')   \n",
    ").reset_index()\n",
    "\n",
    "# Melt to long form to make facet plot easier\n",
    "complaint_overview = complaint_overview.melt(id_vars='category')\n",
    "\n",
    "complaint_overview"
   ]
  },
  {
   "cell_type": "code",
   "execution_count": null,
   "id": "8e762b36",
   "metadata": {},
   "outputs": [],
   "source": [
    "# Look at average word count, max word count, and average character count by category\n",
    "df = complaint_overview.loc[~complaint_overview['variable'].isin(['total_complaints', 'avg_word_len'])]\n",
    "fig = px.bar(df, x=\"value\", y=\"category\", color=\"category\", facet_row=\"variable\")\n",
    "fig.show()"
   ]
  },
  {
   "cell_type": "code",
   "execution_count": null,
   "id": "bcf7b243",
   "metadata": {},
   "outputs": [],
   "source": [
    "# Distribution of all complaints by word count\n",
    "df = complaints\n",
    "fig = px.histogram(complaints, x='word_count')\n",
    "fig.show()"
   ]
  },
  {
   "cell_type": "code",
   "execution_count": null,
   "id": "03c6a249",
   "metadata": {
    "scrolled": false
   },
   "outputs": [],
   "source": [
    "# Distribution of complaints by word count, grouped by category\n",
    "df = complaints\n",
    "fig = px.histogram(complaints, x='word_count', color = 'category', facet_row='category', histnorm='percent')\n",
    "fig.show()"
   ]
  },
  {
   "cell_type": "code",
   "execution_count": null,
   "id": "19fa8684",
   "metadata": {},
   "outputs": [],
   "source": [
    "# Distribution of complaints by character count, grouped by category\n",
    "df = complaints\n",
    "fig = px.histogram(complaints, x='char_count', color = 'category', facet_row='category', histnorm='percent')\n",
    "fig.show()"
   ]
  },
  {
   "cell_type": "markdown",
   "id": "6e8fbfa0",
   "metadata": {},
   "source": [
    "#### Taking a look at redacted material"
   ]
  },
  {
   "cell_type": "code",
   "execution_count": null,
   "id": "be6cfcc5",
   "metadata": {},
   "outputs": [],
   "source": [
    "complaints.loc[(complaints['complaint'].str.contains('\\sX{1,}\\s', regex=True))\n",
    "               |\n",
    "               (complaints['complaint'].str.contains('XX/XX/'))]"
   ]
  },
  {
   "cell_type": "code",
   "execution_count": null,
   "id": "f9b9437e",
   "metadata": {
    "scrolled": true
   },
   "outputs": [],
   "source": [
    "complaints.loc[(complaints['complaint'].str.contains('X{1,2}\\/X{1,2}\\/X{2,4}', regex=True))\n",
    "               &\n",
    "               (~complaints['complaint'].str.contains('X{1,2}\\/X{1,2}\\/X{2,4} ', regex=True))].iloc[0,0]"
   ]
  },
  {
   "cell_type": "code",
   "execution_count": null,
   "id": "9d30bf02",
   "metadata": {},
   "outputs": [],
   "source": [
    "complaints.loc[(complaints['complaint'].str.contains('X{1,2}\\/X{1,2}\\/\\d{2,4} ', regex=True))]#.iloc[0,0]"
   ]
  },
  {
   "cell_type": "code",
   "execution_count": null,
   "id": "6af95f1a",
   "metadata": {},
   "outputs": [],
   "source": [
    "complaints.loc[(complaints['complaint'].str.contains(' X{2} ', regex=True))].iloc[1,0]"
   ]
  },
  {
   "cell_type": "code",
   "execution_count": null,
   "id": "07a0564d",
   "metadata": {},
   "outputs": [],
   "source": [
    "complaints['complaint'].str.replace('X', '').loc[(complaints['complaint'].str.contains(' X{2} ', regex=True))].iloc[0]"
   ]
  },
  {
   "cell_type": "code",
   "execution_count": null,
   "id": "4bae0359",
   "metadata": {},
   "outputs": [],
   "source": [
    "# Create a version of the complaints free of redacted materials plus a little bit of other cleaning\n",
    "complaints['complaint_clean'] = complaints['complaint'].str.replace('X', '').str.replace('//', '').str.replace('.00', '')"
   ]
  },
  {
   "cell_type": "code",
   "execution_count": null,
   "id": "c08d0f13",
   "metadata": {},
   "outputs": [],
   "source": [
    "complaints.loc[(complaints['complaint_clean'].str.contains('--', regex=True))].iloc[2,0]"
   ]
  },
  {
   "cell_type": "markdown",
   "id": "ef5c98c5",
   "metadata": {},
   "source": [
    "#### Now do some tokenizing"
   ]
  },
  {
   "cell_type": "code",
   "execution_count": null,
   "id": "f919dbf6",
   "metadata": {},
   "outputs": [],
   "source": [
    "all_complaints = ''.join(complaints['complaint_clean'])"
   ]
  },
  {
   "cell_type": "code",
   "execution_count": null,
   "id": "5534b604",
   "metadata": {},
   "outputs": [],
   "source": [
    "stop_words = set(stopwords.words('english'))"
   ]
  },
  {
   "cell_type": "code",
   "execution_count": null,
   "id": "51225340",
   "metadata": {},
   "outputs": [],
   "source": [
    "all_counter = Counter([x.lower() for x in regexp_tokenize(all_complaints, '[-\\'\\w]+') if x.lower() not in stop_words])"
   ]
  },
  {
   "cell_type": "code",
   "execution_count": null,
   "id": "a9ed5b16",
   "metadata": {},
   "outputs": [],
   "source": [
    "all_counter.most_common()"
   ]
  },
  {
   "cell_type": "code",
   "execution_count": null,
   "id": "614f785e",
   "metadata": {},
   "outputs": [],
   "source": [
    "# Number of unique words after removing redactions and stop words\n",
    "len(all_counter)"
   ]
  },
  {
   "cell_type": "code",
   "execution_count": null,
   "id": "17d98e4c",
   "metadata": {},
   "outputs": [],
   "source": [
    "# Total occurrences of all words after removing redactions and stop words\n",
    "sum(all_counter.values())"
   ]
  },
  {
   "cell_type": "code",
   "execution_count": null,
   "id": "119bb3c5",
   "metadata": {},
   "outputs": [],
   "source": [
    "# Total occurrences of all words with no cleaning\n",
    "complaints['word_count'].sum()"
   ]
  },
  {
   "cell_type": "code",
   "execution_count": null,
   "id": "28213c78",
   "metadata": {},
   "outputs": [],
   "source": [
    "complaints.loc[complaints['complaint'].str.contains(' 00 ')].iloc[0, 0]"
   ]
  },
  {
   "cell_type": "markdown",
   "id": "685b61df",
   "metadata": {},
   "source": [
    "#### Tokenize by group"
   ]
  },
  {
   "cell_type": "code",
   "execution_count": null,
   "id": "58ab89b9",
   "metadata": {},
   "outputs": [],
   "source": [
    "def get_cat_tokens(category):\n",
    "    group_text = (\n",
    "        ''.join(complaints.loc[complaints['category'] == category]['complaint_clean'])\n",
    "    )\n",
    "    \n",
    "    group_counter = (\n",
    "        Counter([x.lower() for x in regexp_tokenize(group_text, '[-\\'\\w]+') if x.lower() not in stop_words])\n",
    "    )\n",
    "    \n",
    "    return group_counter.most_common()"
   ]
  },
  {
   "cell_type": "code",
   "execution_count": null,
   "id": "96e43347",
   "metadata": {},
   "outputs": [],
   "source": [
    "complaints['category'].unique()"
   ]
  },
  {
   "cell_type": "code",
   "execution_count": null,
   "id": "eb48464e",
   "metadata": {},
   "outputs": [],
   "source": [
    "info_counter = get_cat_tokens('Incorrect information on your report')"
   ]
  },
  {
   "cell_type": "code",
   "execution_count": null,
   "id": "8333e8bb",
   "metadata": {},
   "outputs": [],
   "source": [
    "info_counter"
   ]
  },
  {
   "cell_type": "code",
   "execution_count": null,
   "id": "1dd1d742",
   "metadata": {},
   "outputs": [],
   "source": [
    "fraud_counter = get_cat_tokens('Fraud or scam')"
   ]
  },
  {
   "cell_type": "code",
   "execution_count": null,
   "id": "ab860e36",
   "metadata": {},
   "outputs": [],
   "source": [
    "fraud_counter"
   ]
  },
  {
   "cell_type": "code",
   "execution_count": null,
   "id": "8661365d",
   "metadata": {},
   "outputs": [],
   "source": [
    "dno_counter = get_cat_tokens('Attempts to collect debt not owed')"
   ]
  },
  {
   "cell_type": "code",
   "execution_count": null,
   "id": "6c840db6",
   "metadata": {},
   "outputs": [],
   "source": [
    "dno_counter"
   ]
  },
  {
   "cell_type": "code",
   "execution_count": null,
   "id": "c2d7c30e",
   "metadata": {},
   "outputs": [],
   "source": [
    "comm_counter = get_cat_tokens('Communication tactics')"
   ]
  },
  {
   "cell_type": "code",
   "execution_count": null,
   "id": "234e612a",
   "metadata": {},
   "outputs": [],
   "source": [
    "comm_counter"
   ]
  },
  {
   "cell_type": "code",
   "execution_count": null,
   "id": "396be154",
   "metadata": {},
   "outputs": [],
   "source": [
    "mortgage_counter = get_cat_tokens('Struggling to pay mortgage')"
   ]
  },
  {
   "cell_type": "code",
   "execution_count": null,
   "id": "f0cbac06",
   "metadata": {},
   "outputs": [],
   "source": [
    "mortgage_counter"
   ]
  },
  {
   "cell_type": "code",
   "execution_count": null,
   "id": "5755c7eb",
   "metadata": {},
   "outputs": [],
   "source": [
    "#import pickle\n",
    "#complaints.to_pickle('../data/complaints_df.pkl')"
   ]
  },
  {
   "cell_type": "code",
   "execution_count": null,
   "id": "9a082a2b",
   "metadata": {},
   "outputs": [],
   "source": []
  }
 ],
 "metadata": {
  "kernelspec": {
   "display_name": "Python 3 (ipykernel)",
   "language": "python",
   "name": "python3"
  },
  "language_info": {
   "codemirror_mode": {
    "name": "ipython",
    "version": 3
   },
   "file_extension": ".py",
   "mimetype": "text/x-python",
   "name": "python",
   "nbconvert_exporter": "python",
   "pygments_lexer": "ipython3",
   "version": "3.9.16"
  }
 },
 "nbformat": 4,
 "nbformat_minor": 5
}
