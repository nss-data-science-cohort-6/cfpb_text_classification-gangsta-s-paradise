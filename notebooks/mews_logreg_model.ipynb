{
 "cells": [
  {
   "cell_type": "code",
   "execution_count": null,
   "id": "08e1b2a7",
   "metadata": {},
   "outputs": [],
   "source": [
    "import pickle\n",
    "import pandas as pd\n",
    "import numpy as np\n",
    "import seaborn as sns\n",
    "import matplotlib.pyplot as plt\n",
    "\n",
    "from sklearn.feature_extraction.text import TfidfVectorizer\n",
    "from sklearn.model_selection import train_test_split\n",
    "from sklearn.feature_extraction.text import CountVectorizer\n",
    "from sklearn.feature_extraction.text import TfidfTransformer\n",
    "\n",
    "\n",
    "from sklearn.linear_model import LogisticRegression\n",
    "from sklearn.svm import LinearSVC\n",
    "from sklearn.metrics import confusion_matrix\n",
    "from sklearn.metrics import accuracy_score\n",
    "from sklearn import metrics"
   ]
  },
  {
   "cell_type": "code",
   "execution_count": null,
   "id": "9da7ef85",
   "metadata": {
    "scrolled": true
   },
   "outputs": [],
   "source": [
    "complaints = pd.read_pickle('../data/complaints_df.pkl')\n",
    "complaints.info()"
   ]
  },
  {
   "cell_type": "code",
   "execution_count": null,
   "id": "1f33d3d9",
   "metadata": {},
   "outputs": [],
   "source": [
    "complaints['category_id'] = complaints['category'].factorize()[0]"
   ]
  },
  {
   "cell_type": "code",
   "execution_count": null,
   "id": "545d2a3a",
   "metadata": {},
   "outputs": [],
   "source": [
    "category_id_df = complaints[['category', 'category_id']].drop_duplicates().sort_values('category_id')\n",
    "category_to_id = dict(category_id_df.values)\n",
    "id_to_category = dict(category_id_df[['category_id', 'category']].values)"
   ]
  },
  {
   "cell_type": "markdown",
   "id": "23de82b5",
   "metadata": {},
   "source": [
    "## Set up and fit model"
   ]
  },
  {
   "cell_type": "code",
   "execution_count": null,
   "id": "dc2153a5",
   "metadata": {},
   "outputs": [],
   "source": [
    "tfidf = TfidfVectorizer(sublinear_tf=True, \n",
    "                        min_df=1250, \n",
    "                        norm='l2',\n",
    "                        encoding='latin-1', \n",
    "                        ngram_range=(1, 2), \n",
    "                        stop_words='english')\n",
    "\n",
    "features = tfidf.fit_transform(complaints['complaint_clean']).toarray()\n",
    "labels = complaints['category_id']\n",
    "features.shape"
   ]
  },
  {
   "cell_type": "code",
   "execution_count": null,
   "id": "dece8514",
   "metadata": {},
   "outputs": [],
   "source": [
    "model = LogisticRegression(random_state=369, max_iter=1000)\n",
    "X_train, X_test, y_train, y_test, indices_train, indices_test = train_test_split(features, \n",
    "                                                                                 labels, \n",
    "                                                                                 complaints.index, \n",
    "                                                                                 test_size=0.2,\n",
    "                                                                                 random_state=369)\n",
    "model.fit(X_train, y_train)\n",
    "y_pred = model.predict(X_test)"
   ]
  },
  {
   "cell_type": "code",
   "execution_count": null,
   "id": "e72b7ce9",
   "metadata": {},
   "outputs": [],
   "source": [
    "accuracy_score(y_test, y_pred)"
   ]
  },
  {
   "cell_type": "code",
   "execution_count": null,
   "id": "7df39833",
   "metadata": {
    "scrolled": true
   },
   "outputs": [],
   "source": [
    "print(metrics.classification_report(y_test, y_pred, target_names=complaints['category'].unique()))"
   ]
  },
  {
   "cell_type": "code",
   "execution_count": null,
   "id": "2d649f7d",
   "metadata": {
    "scrolled": true
   },
   "outputs": [],
   "source": [
    "conf_mat = confusion_matrix(y_test, y_pred)\n",
    "fig, ax = plt.subplots(figsize=(10,10))\n",
    "sns.heatmap(conf_mat, annot=True, fmt='d',\n",
    "            xticklabels=category_id_df.category.values, yticklabels=category_id_df.category.values)\n",
    "plt.ylabel('Actual')\n",
    "plt.xlabel('Predicted')\n",
    "plt.show()"
   ]
  },
  {
   "cell_type": "code",
   "execution_count": null,
   "id": "69c7ce14",
   "metadata": {},
   "outputs": [],
   "source": [
    "conf_mat = confusion_matrix(y_test, y_pred, normalize = 'true')\n",
    "fig, ax = plt.subplots(figsize=(10,10))\n",
    "sns.heatmap(conf_mat, annot=True, #fmt='d',\n",
    "            xticklabels=category_id_df.category.values, yticklabels=category_id_df.category.values)\n",
    "plt.ylabel('Actual')\n",
    "plt.xlabel('Predicted')\n",
    "plt.show()"
   ]
  },
  {
   "cell_type": "code",
   "execution_count": null,
   "id": "4f93aa10",
   "metadata": {},
   "outputs": [],
   "source": [
    "import plotly.express as px"
   ]
  },
  {
   "cell_type": "code",
   "execution_count": null,
   "id": "d5ee8694",
   "metadata": {},
   "outputs": [],
   "source": [
    "category_id_df['category'] =(\n",
    "    category_id_df['category']\n",
    "    .str.replace('Incorrect information on your report', 'Incorrect information')\n",
    "    .str.replace('Attempts to collect debt not owed', 'Debt not owed')\n",
    "    .str.replace('Struggling to pay mortgage', 'Mortgage struggles')\n",
    ")"
   ]
  },
  {
   "cell_type": "code",
   "execution_count": null,
   "id": "7ce8a5e6",
   "metadata": {
    "scrolled": false
   },
   "outputs": [],
   "source": [
    "df = confusion_matrix(y_test, y_pred, normalize = 'true')\n",
    "\n",
    "fig = px.imshow(df,\n",
    "                x=category_id_df.category.values,\n",
    "                y=category_id_df.category.values,\n",
    "                labels={\n",
    "                'x' : 'Predicted',\n",
    "                'y' : 'Actual',\n",
    "                'color' : 'Proportion of Actual'\n",
    "                },\n",
    "                color_continuous_scale='Peach',\n",
    "                text_auto=True)\n",
    "\n",
    "fig.update_traces(texttemplate=\"%{z:.2%}\", \n",
    "                  zhoverformat=\".2%\",\n",
    "                  colorbar_len=0.9,\n",
    "                  selector=dict(type='heatmap'))\n",
    "\n",
    "\n",
    "fig.show()"
   ]
  },
  {
   "cell_type": "code",
   "execution_count": null,
   "id": "2c845195",
   "metadata": {},
   "outputs": [],
   "source": [
    "#fig.write_html('../images/logreg_confmat.html')"
   ]
  },
  {
   "cell_type": "code",
   "execution_count": null,
   "id": "81b9e7e6",
   "metadata": {},
   "outputs": [],
   "source": []
  },
  {
   "cell_type": "code",
   "execution_count": null,
   "id": "996c8378",
   "metadata": {},
   "outputs": [],
   "source": []
  }
 ],
 "metadata": {
  "kernelspec": {
   "display_name": "Python 3 (ipykernel)",
   "language": "python",
   "name": "python3"
  },
  "language_info": {
   "codemirror_mode": {
    "name": "ipython",
    "version": 3
   },
   "file_extension": ".py",
   "mimetype": "text/x-python",
   "name": "python",
   "nbconvert_exporter": "python",
   "pygments_lexer": "ipython3",
   "version": "3.9.16"
  }
 },
 "nbformat": 4,
 "nbformat_minor": 5
}
