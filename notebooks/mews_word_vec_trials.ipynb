{
 "cells": [
  {
   "cell_type": "code",
   "execution_count": 1,
   "id": "dd89509a",
   "metadata": {},
   "outputs": [],
   "source": [
    "import pandas as pd\n",
    "from sklearn.model_selection import train_test_split\n",
    "from sklearn.metrics import accuracy_score, confusion_matrix\n",
    "import re\n",
    "import numpy as np\n",
    "import matplotlib.pyplot as plt\n",
    "from sklearn.feature_extraction.text import CountVectorizer, TfidfVectorizer\n",
    "import seaborn as sns\n",
    "from sklearn.linear_model import LogisticRegression\n",
    "from sklearn.metrics.pairwise import cosine_similarity"
   ]
  },
  {
   "cell_type": "code",
   "execution_count": 2,
   "id": "53e617ed",
   "metadata": {},
   "outputs": [
    {
     "name": "stdout",
     "output_type": "stream",
     "text": [
      "<class 'pandas.core.frame.DataFrame'>\n",
      "RangeIndex: 353432 entries, 0 to 353431\n",
      "Data columns (total 6 columns):\n",
      " #   Column           Non-Null Count   Dtype  \n",
      "---  ------           --------------   -----  \n",
      " 0   complaint        353432 non-null  object \n",
      " 1   category         353432 non-null  object \n",
      " 2   word_count       353432 non-null  int64  \n",
      " 3   char_count       353432 non-null  int64  \n",
      " 4   avg_word_len     353432 non-null  float64\n",
      " 5   complaint_clean  353432 non-null  object \n",
      "dtypes: float64(1), int64(2), object(3)\n",
      "memory usage: 16.2+ MB\n"
     ]
    }
   ],
   "source": [
    "complaints = pd.read_pickle('../data/complaints_df.pkl')\n",
    "complaints.info()"
   ]
  },
  {
   "cell_type": "code",
   "execution_count": 3,
   "id": "73e95f49",
   "metadata": {},
   "outputs": [],
   "source": [
    "X = complaints[['complaint_clean']]\n",
    "y = complaints['category']\n",
    "\n",
    "X_train, X_test, y_train, y_test = train_test_split(X, y, random_state = 369, stratify = y)"
   ]
  },
  {
   "cell_type": "code",
   "execution_count": 4,
   "id": "4e6100f4",
   "metadata": {},
   "outputs": [],
   "source": [
    "vect = CountVectorizer()\n",
    "\n",
    "X_train_vec = vect.fit_transform(X_train['complaint_clean'])\n",
    "X_test_vec = vect.transform(X_test['complaint_clean'])"
   ]
  },
  {
   "cell_type": "code",
   "execution_count": 6,
   "id": "36e37b33",
   "metadata": {},
   "outputs": [],
   "source": [
    "from collections import Counter\n",
    "from scipy import sparse\n",
    "from scipy.sparse.linalg import svds\n",
    "import gensim"
   ]
  },
  {
   "cell_type": "code",
   "execution_count": 7,
   "id": "0352a6a1",
   "metadata": {},
   "outputs": [],
   "source": [
    "complaint_counter = Counter()\n",
    "\n",
    "for complaint in X_train['complaint_clean']:\n",
    "    complaint_counter.update(gensim.utils.simple_preprocess(complaint))\n",
    "\n",
    "word_index = {word: i for i, word in enumerate(complaint_counter.keys())}\n",
    "index_word = {i: word for i, word in enumerate(complaint_counter.keys())}\n",
    "\n",
    "window_size = 2\n",
    "\n",
    "cooccurrence_counter = Counter()\n",
    "\n",
    "for complaint in X_train['complaint_clean']:\n",
    "    # First, tokenize the sentence\n",
    "    sentence = gensim.utils.simple_preprocess(complaint)\n",
    "    \n",
    "    # Then, we'll build the window around each word\n",
    "    for i, word in enumerate(sentence):\n",
    "        window = sentence[max(0, i-2): i] + sentence[i+1: i+3]\n",
    "\n",
    "        # Then, we'll up the counter value for that pair\n",
    "        for other_word in window:\n",
    "            cooccurrence_counter[(word, other_word)] += 1"
   ]
  },
  {
   "cell_type": "code",
   "execution_count": 8,
   "id": "85a82c93",
   "metadata": {},
   "outputs": [],
   "source": [
    "row_idx = []\n",
    "col_idx = []\n",
    "counts = []\n",
    "\n",
    "for (word1, word2) in cooccurrence_counter.keys():\n",
    "    row_idx.append(word_index[word1])\n",
    "    col_idx.append(word_index[word2])\n",
    "    counts.append(cooccurrence_counter[(word1, word2)])\n",
    "\n",
    "cooccurrence_matrix = sparse.csc_matrix((counts, (row_idx, col_idx)), dtype = 'float')\n",
    "\n",
    "dimension = 50\n",
    "\n",
    "U, D, V = svds(cooccurrence_matrix, k = dimension)\n",
    "\n",
    "word_vectors = U * D"
   ]
  },
  {
   "cell_type": "code",
   "execution_count": 9,
   "id": "69421a7b",
   "metadata": {},
   "outputs": [],
   "source": [
    "def make_vector_matrix(complaint, word_vectors):\n",
    "    embedding = np.zeros(shape = (word_vectors.shape[1],))\n",
    "    count = 0\n",
    "    for word in gensim.utils.simple_preprocess(complaint):\n",
    "        if word_index.get(word):\n",
    "            embedding += word_vectors[word_index[word]]\n",
    "            count += 1\n",
    "    if count > 0:\n",
    "        embedding /= count\n",
    "    \n",
    "    return embedding"
   ]
  },
  {
   "cell_type": "code",
   "execution_count": 10,
   "id": "5f961ae3",
   "metadata": {},
   "outputs": [],
   "source": [
    "X_train_vec = np.vstack(X_train['complaint_clean'].apply(lambda x: make_vector_matrix(x, word_vectors)))\n",
    "X_test_vec = np.vstack(X_test['complaint_clean'].apply(lambda x: make_vector_matrix(x, word_vectors)))"
   ]
  },
  {
   "cell_type": "code",
   "execution_count": 11,
   "id": "5a3ee654",
   "metadata": {},
   "outputs": [
    {
     "data": {
      "text/plain": [
       "array([[ 8347,   926,   235,  8309,   474],\n",
       "       [ 1001,  2823,   138,   898,   451],\n",
       "       [  145,   181,  1089,  1245,   427],\n",
       "       [ 2746,   274,   248, 53500,   558],\n",
       "       [   87,   176,    76,   755,  3249]], dtype=int64)"
      ]
     },
     "execution_count": 11,
     "metadata": {},
     "output_type": "execute_result"
    }
   ],
   "source": [
    "logreg = LogisticRegression(max_iter = 10000).fit(X_train_vec, y_train)\n",
    "\n",
    "y_pred = logreg.predict(X_test_vec)\n",
    "\n",
    "confusion_matrix(y_test, y_pred)"
   ]
  },
  {
   "cell_type": "code",
   "execution_count": 19,
   "id": "5beba9d7",
   "metadata": {},
   "outputs": [
    {
     "data": {
      "text/plain": [
       "0.7810045496729215"
      ]
     },
     "execution_count": 19,
     "metadata": {},
     "output_type": "execute_result"
    }
   ],
   "source": [
    "accuracy_score(y_test, y_pred)"
   ]
  },
  {
   "cell_type": "code",
   "execution_count": 18,
   "id": "c864d7e9",
   "metadata": {
    "scrolled": false
   },
   "outputs": [
    {
     "data": {
      "image/png": "[encoded data removed]",
      "text/plain": [
       "<Figure size 1000x1000 with 2 Axes>"
      ]
     },
     "metadata": {},
     "output_type": "display_data"
    }
   ],
   "source": [
    "from sklearn.metrics import confusion_matrix\n",
    "conf_mat = confusion_matrix(y_test, y_pred)\n",
    "fig, ax = plt.subplots(figsize=(10,10))\n",
    "sns.heatmap(conf_mat, annot=True, fmt='d'\n",
    "           )\n",
    "plt.ylabel('Actual')\n",
    "plt.xlabel('Predicted')\n",
    "plt.show()"
   ]
  },
  {
   "cell_type": "markdown",
   "id": "61a6ac76",
   "metadata": {},
   "source": [
    "Word2Vec from gensim"
   ]
  },
  {
   "cell_type": "code",
   "execution_count": null,
   "id": "73e59e6c",
   "metadata": {},
   "outputs": [],
   "source": []
  }
 ],
 "metadata": {
  "kernelspec": {
   "display_name": "Python 3 (ipykernel)",
   "language": "python",
   "name": "python3"
  },
  "language_info": {
   "codemirror_mode": {
    "name": "ipython",
    "version": 3
   },
   "file_extension": ".py",
   "mimetype": "text/x-python",
   "name": "python",
   "nbconvert_exporter": "python",
   "pygments_lexer": "ipython3",
   "version": "3.9.16"
  }
 },
 "nbformat": 4,
 "nbformat_minor": 5
}
