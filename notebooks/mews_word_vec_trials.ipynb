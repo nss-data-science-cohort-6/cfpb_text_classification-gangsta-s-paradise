{
 "cells": [
  {
   "cell_type": "code",
   "execution_count": null,
   "id": "aa013bbd",
   "metadata": {},
   "outputs": [],
   "source": [
    "import pandas as pd\n",
    "from sklearn.model_selection import train_test_split\n",
    "from sklearn.metrics import accuracy_score, confusion_matrix\n",
    "import re\n",
    "import numpy as np\n",
    "import matplotlib.pyplot as plt\n",
    "from sklearn.feature_extraction.text import CountVectorizer, TfidfVectorizer\n",
    "import seaborn as sns\n",
    "from sklearn.linear_model import LogisticRegression\n",
    "from sklearn.metrics.pairwise import cosine_similarity"
   ]
  },
  {
   "cell_type": "code",
   "execution_count": null,
   "id": "13bd5a6f",
   "metadata": {},
   "outputs": [],
   "source": [
    "complaints = pd.read_pickle('../data/complaints_df.pkl')\n",
    "complaints.info()"
   ]
  },
  {
   "cell_type": "code",
   "execution_count": null,
   "id": "0a4f83e1",
   "metadata": {},
   "outputs": [],
   "source": [
    "X = complaints[['complaint_clean']]\n",
    "y = complaints['category']\n",
    "\n",
    "X_train, X_test, y_train, y_test = train_test_split(X, y, random_state = 369, stratify = y)"
   ]
  },
  {
   "cell_type": "code",
   "execution_count": null,
   "id": "cf4c38f5",
   "metadata": {},
   "outputs": [],
   "source": [
    "vect = CountVectorizer()\n",
    "\n",
    "X_train_vec = vect.fit_transform(X_train['complaint_clean'])\n",
    "X_test_vec = vect.transform(X_test['complaint_clean'])"
   ]
  },
  {
   "cell_type": "code",
   "execution_count": null,
   "id": "77bfaeee",
   "metadata": {},
   "outputs": [],
   "source": [
    "from collections import Counter\n",
    "from scipy import sparse\n",
    "from scipy.sparse.linalg import svds\n",
    "import gensim"
   ]
  },
  {
   "cell_type": "code",
   "execution_count": null,
   "id": "e1b70fea",
   "metadata": {},
   "outputs": [],
   "source": [
    "complaint_counter = Counter()\n",
    "\n",
    "for complaint in X_train['complaint_clean']:\n",
    "    complaint_counter.update(gensim.utils.simple_preprocess(complaint))\n",
    "\n",
    "word_index = {word: i for i, word in enumerate(complaint_counter.keys())}\n",
    "index_word = {i: word for i, word in enumerate(complaint_counter.keys())}\n",
    "\n",
    "window_size = 2\n",
    "\n",
    "cooccurrence_counter = Counter()\n",
    "\n",
    "for complaint in X_train['complaint_clean']:\n",
    "    # First, tokenize the sentence\n",
    "    sentence = gensim.utils.simple_preprocess(complaint)\n",
    "    \n",
    "    # Then, we'll build the window around each word\n",
    "    for i, word in enumerate(sentence):\n",
    "        window = sentence[max(0, i-2): i] + sentence[i+1: i+3]\n",
    "\n",
    "        # Then, we'll up the counter value for that pair\n",
    "        for other_word in window:\n",
    "            cooccurrence_counter[(word, other_word)] += 1"
   ]
  },
  {
   "cell_type": "code",
   "execution_count": null,
   "id": "fed9a8b1",
   "metadata": {},
   "outputs": [],
   "source": [
    "row_idx = []\n",
    "col_idx = []\n",
    "counts = []\n",
    "\n",
    "for (word1, word2) in cooccurrence_counter.keys():\n",
    "    row_idx.append(word_index[word1])\n",
    "    col_idx.append(word_index[word2])\n",
    "    counts.append(cooccurrence_counter[(word1, word2)])\n",
    "\n",
    "cooccurrence_matrix = sparse.csc_matrix((counts, (row_idx, col_idx)), dtype = 'float')\n",
    "\n",
    "dimension = 50\n",
    "\n",
    "U, D, V = svds(cooccurrence_matrix, k = dimension)\n",
    "\n",
    "word_vectors = U * D"
   ]
  },
  {
   "cell_type": "code",
   "execution_count": null,
   "id": "aa03e18b",
   "metadata": {},
   "outputs": [],
   "source": [
    "def make_vector_matrix(complaint, word_vectors):\n",
    "    embedding = np.zeros(shape = (word_vectors.shape[1],))\n",
    "    count = 0\n",
    "    for word in gensim.utils.simple_preprocess(complaint):\n",
    "        if word_index.get(word):\n",
    "            embedding += word_vectors[word_index[word]]\n",
    "            count += 1\n",
    "    if count > 0:\n",
    "        embedding /= count\n",
    "    \n",
    "    return embedding"
   ]
  },
  {
   "cell_type": "code",
   "execution_count": null,
   "id": "6d2a1689",
   "metadata": {},
   "outputs": [],
   "source": [
    "X_train_vec = np.vstack(X_train['complaint_clean'].apply(lambda x: make_vector_matrix(x, word_vectors)))\n",
    "X_test_vec = np.vstack(X_test['complaint_clean'].apply(lambda x: make_vector_matrix(x, word_vectors)))"
   ]
  },
  {
   "cell_type": "code",
   "execution_count": null,
   "id": "c5a7d10c",
   "metadata": {},
   "outputs": [],
   "source": [
    "logreg = LogisticRegression(max_iter = 10000).fit(X_train_vec, y_train)\n",
    "\n",
    "y_pred = logreg.predict(X_test_vec)\n",
    "\n",
    "confusion_matrix(y_test, y_pred)"
   ]
  },
  {
   "cell_type": "code",
   "execution_count": null,
   "id": "b2973c7f",
   "metadata": {},
   "outputs": [],
   "source": [
    "accuracy_score(y_test, y_pred)"
   ]
  },
  {
   "cell_type": "code",
   "execution_count": null,
   "id": "7ae0795f",
   "metadata": {
    "scrolled": false
   },
   "outputs": [],
   "source": [
    "from sklearn.metrics import confusion_matrix\n",
    "conf_mat = confusion_matrix(y_test, y_pred)\n",
    "fig, ax = plt.subplots(figsize=(10,10))\n",
    "sns.heatmap(conf_mat, annot=True, fmt='d'\n",
    "           )\n",
    "plt.ylabel('Actual')\n",
    "plt.xlabel('Predicted')\n",
    "plt.show()"
   ]
  },
  {
   "cell_type": "markdown",
   "id": "3c226a32",
   "metadata": {},
   "source": [
    "Word2Vec from gensim"
   ]
  },
  {
   "cell_type": "code",
   "execution_count": null,
   "id": "8634ee3a",
   "metadata": {},
   "outputs": [],
   "source": []
  }
 ],
 "metadata": {
  "kernelspec": {
   "display_name": "Python 3 (ipykernel)",
   "language": "python",
   "name": "python3"
  },
  "language_info": {
   "codemirror_mode": {
    "name": "ipython",
    "version": 3
   },
   "file_extension": ".py",
   "mimetype": "text/x-python",
   "name": "python",
   "nbconvert_exporter": "python",
   "pygments_lexer": "ipython3",
   "version": "3.9.16"
  }
 },
 "nbformat": 4,
 "nbformat_minor": 5
}
