{
 "cells": [
  {
   "cell_type": "code",
   "execution_count": null,
   "id": "f483f2e5",
   "metadata": {},
   "outputs": [],
   "source": [
    "# we are going to remove the stop words and find the most frequent tokens each category.\n",
    "\n",
    "len(stopwords.words('english'))  #179"
   ]
  },
  {
   "cell_type": "code",
   "execution_count": null,
   "id": "c1d6c3bb",
   "metadata": {},
   "outputs": [],
   "source": [
    "# data = \"All work and no play makes jack dull boy. All work and no play makes jack a dull boy.\"\n",
    "# stopWords = set(stopwords.words('english'))\n",
    "# words = word_tokenize(data)\n",
    "# wordsFiltered = []\n",
    "\n",
    "# for w in words:\n",
    "#     if w not in stopWords:\n",
    "#         wordsFiltered.append(w)\n",
    "\n",
    "# print(wordsFiltered)"
   ]
  },
  {
   "cell_type": "code",
   "execution_count": null,
   "id": "2db7a89d",
   "metadata": {},
   "outputs": [],
   "source": [
    "X = reviews[['complaint_clean']]\n",
    "y = reviews['Issue']\n",
    "X_train, X_test, y_train, y_test = train_test_split(X, y, random_state = 321, stratify = y)\n",
    "----------------------------------------------------------------\n",
    "\n",
    "vect = CountVectorizer(stop_words=stopwords.words('english')) #doing countvectorizer after removing stop words\n",
    "    \n",
    "vect.fit(X_train['complaint_clean'])\n",
    "X_train_vec = vect.transform(X_train['complaint_clean'])\n",
    "\n",
    "X_test_vec = vect.transform(X_test['complaint_clean'])\n",
    "---------------------------------------------------------------\n",
    "vocb_dic1 = vect.vocabulary_\n",
    "vocb_dic1\n",
    "--------------------------------------------------------------\n",
    "key_sum = len(vocb_dic1.keys())\n",
    "print(\"Total count of token(words) in the vocabulary:\", key_sum)\n",
    "------------------------------------------------------------------\n",
    "word_counts1 = pd.DataFrame({\n",
    "    'words': vect.get_feature_names_out(), #sorted(vocb_dic.keys()) can also give it in the same order\n",
    "    #becoz the vocb_dic is not in the same order for count(frequency) so we can not use the dic.keys for word to match the grefuency\n",
    "    'frequency': np.array(X_train_vec.sum(axis = 0)).flatten()\n",
    "})\n",
    "\n",
    "word_counts1.head(50)\n",
    "---------------------------------------------------------------------\n",
    "\n",
    "word_counts1.sort_values('frequency', ascending=False).head(50)\n",
    "-----------------------------------------\n",
    "\n"
   ]
  },
  {
   "cell_type": "code",
   "execution_count": null,
   "id": "55803d90",
   "metadata": {},
   "outputs": [],
   "source": [
    "(word_counts1[~word_counts1['words'].str.isnumeric()].\n",
    " sort_values('frequency',ascending=False)) #48883 rows × 2 columns. Top two  were XXXX (4286797) and xx (756808)\n",
    "\n",
    "plt.barh((word_counts1[~word_counts1['words'].str.isnumeric()].\n",
    " sort_values('frequency',ascending=False)\n",
    ".iloc[2:12]).words, (word_counts1[~word_counts1['words'].str.isnumeric()].\n",
    " sort_values('frequency',ascending=False)\n",
    ".iloc[2:12]).frequency)\n",
    "plt.xticks(rotation=90)\n",
    "plt.xlabel(\"Frequency\")\n",
    "plt.ylabel(\"Word_Token\")\n",
    "plt.title(\"Most Frequent (top 10) Token Words in Complaint text with issue(Incorrect information on your report )\")\n",
    "plt.show()"
   ]
  },
  {
   "cell_type": "code",
   "execution_count": null,
   "id": "11f6a407",
   "metadata": {},
   "outputs": [],
   "source": []
  },
  {
   "cell_type": "code",
   "execution_count": null,
   "id": "f137567a",
   "metadata": {},
   "outputs": [],
   "source": []
  }
 ],
 "metadata": {
  "kernelspec": {
   "display_name": "Python 3 (ipykernel)",
   "language": "python",
   "name": "python3"
  },
  "language_info": {
   "codemirror_mode": {
    "name": "ipython",
    "version": 3
   },
   "file_extension": ".py",
   "mimetype": "text/x-python",
   "name": "python",
   "nbconvert_exporter": "python",
   "pygments_lexer": "ipython3",
   "version": "3.9.16"
  }
 },
 "nbformat": 4,
 "nbformat_minor": 5
}
