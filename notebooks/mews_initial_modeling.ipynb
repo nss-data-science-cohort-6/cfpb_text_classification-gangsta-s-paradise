{
 "cells": [
  {
   "cell_type": "code",
   "execution_count": 1,
   "id": "6066886d",
   "metadata": {},
   "outputs": [],
   "source": [
    "import pickle\n",
    "import pandas as pd\n",
    "from sklearn.feature_extraction.text import TfidfVectorizer"
   ]
  },
  {
   "cell_type": "code",
   "execution_count": 2,
   "id": "0082d196",
   "metadata": {},
   "outputs": [
    {
     "name": "stdout",
     "output_type": "stream",
     "text": [
      "<class 'pandas.core.frame.DataFrame'>\n",
      "RangeIndex: 353432 entries, 0 to 353431\n",
      "Data columns (total 6 columns):\n",
      " #   Column           Non-Null Count   Dtype  \n",
      "---  ------           --------------   -----  \n",
      " 0   complaint        353432 non-null  object \n",
      " 1   category         353432 non-null  object \n",
      " 2   word_count       353432 non-null  int64  \n",
      " 3   char_count       353432 non-null  int64  \n",
      " 4   avg_word_len     353432 non-null  float64\n",
      " 5   complaint_clean  353432 non-null  object \n",
      "dtypes: float64(1), int64(2), object(3)\n",
      "memory usage: 16.2+ MB\n"
     ]
    }
   ],
   "source": [
    "complaints = pd.read_pickle('../data/complaints_df.pkl')\n",
    "complaints.info()"
   ]
  },
  {
   "cell_type": "code",
   "execution_count": 3,
   "id": "a18917d7",
   "metadata": {},
   "outputs": [
    {
     "data": {
      "text/html": [
       "<div>\n",
       "<style scoped>\n",
       "    .dataframe tbody tr th:only-of-type {\n",
       "        vertical-align: middle;\n",
       "    }\n",
       "\n",
       "    .dataframe tbody tr th {\n",
       "        vertical-align: top;\n",
       "    }\n",
       "\n",
       "    .dataframe thead th {\n",
       "        text-align: right;\n",
       "    }\n",
       "</style>\n",
       "<table border=\"1\" class=\"dataframe\">\n",
       "  <thead>\n",
       "    <tr style=\"text-align: right;\">\n",
       "      <th></th>\n",
       "      <th>complaint</th>\n",
       "      <th>category</th>\n",
       "      <th>word_count</th>\n",
       "      <th>char_count</th>\n",
       "      <th>avg_word_len</th>\n",
       "      <th>complaint_clean</th>\n",
       "    </tr>\n",
       "  </thead>\n",
       "  <tbody>\n",
       "    <tr>\n",
       "      <th>109</th>\n",
       "      <td>Not my debt</td>\n",
       "      <td>Attempts to collect debt not owed</td>\n",
       "      <td>3</td>\n",
       "      <td>11</td>\n",
       "      <td>3.666667</td>\n",
       "      <td>Not my debt</td>\n",
       "    </tr>\n",
       "    <tr>\n",
       "      <th>304</th>\n",
       "      <td>Report inaccurate information</td>\n",
       "      <td>Incorrect information on your report</td>\n",
       "      <td>3</td>\n",
       "      <td>29</td>\n",
       "      <td>9.666667</td>\n",
       "      <td>Report inaccurate information</td>\n",
       "    </tr>\n",
       "    <tr>\n",
       "      <th>2653</th>\n",
       "      <td>Not my information reporting.</td>\n",
       "      <td>Incorrect information on your report</td>\n",
       "      <td>4</td>\n",
       "      <td>29</td>\n",
       "      <td>7.250000</td>\n",
       "      <td>Not my information reporting.</td>\n",
       "    </tr>\n",
       "    <tr>\n",
       "      <th>2707</th>\n",
       "      <td>Not my accounts</td>\n",
       "      <td>Incorrect information on your report</td>\n",
       "      <td>3</td>\n",
       "      <td>15</td>\n",
       "      <td>5.000000</td>\n",
       "      <td>Not my accounts</td>\n",
       "    </tr>\n",
       "    <tr>\n",
       "      <th>2781</th>\n",
       "      <td>called company XX/XX/</td>\n",
       "      <td>Attempts to collect debt not owed</td>\n",
       "      <td>3</td>\n",
       "      <td>21</td>\n",
       "      <td>7.000000</td>\n",
       "      <td>called company</td>\n",
       "    </tr>\n",
       "    <tr>\n",
       "      <th>...</th>\n",
       "      <td>...</td>\n",
       "      <td>...</td>\n",
       "      <td>...</td>\n",
       "      <td>...</td>\n",
       "      <td>...</td>\n",
       "      <td>...</td>\n",
       "    </tr>\n",
       "    <tr>\n",
       "      <th>352600</th>\n",
       "      <td>XX/XX/2018 amount owed XXXX</td>\n",
       "      <td>Attempts to collect debt not owed</td>\n",
       "      <td>4</td>\n",
       "      <td>27</td>\n",
       "      <td>6.750000</td>\n",
       "      <td>2018 amount owed</td>\n",
       "    </tr>\n",
       "    <tr>\n",
       "      <th>352978</th>\n",
       "      <td>Account has been paid</td>\n",
       "      <td>Attempts to collect debt not owed</td>\n",
       "      <td>4</td>\n",
       "      <td>21</td>\n",
       "      <td>5.250000</td>\n",
       "      <td>Account has been paid</td>\n",
       "    </tr>\n",
       "    <tr>\n",
       "      <th>353064</th>\n",
       "      <td>This is not mine</td>\n",
       "      <td>Attempts to collect debt not owed</td>\n",
       "      <td>4</td>\n",
       "      <td>16</td>\n",
       "      <td>4.000000</td>\n",
       "      <td>This is not mine</td>\n",
       "    </tr>\n",
       "    <tr>\n",
       "      <th>353353</th>\n",
       "      <td>NO ANSWER EVER</td>\n",
       "      <td>Attempts to collect debt not owed</td>\n",
       "      <td>3</td>\n",
       "      <td>14</td>\n",
       "      <td>4.666667</td>\n",
       "      <td>NO ANSWER EVER</td>\n",
       "    </tr>\n",
       "    <tr>\n",
       "      <th>353374</th>\n",
       "      <td>This debt was paid!</td>\n",
       "      <td>Attempts to collect debt not owed</td>\n",
       "      <td>4</td>\n",
       "      <td>19</td>\n",
       "      <td>4.750000</td>\n",
       "      <td>This debt was paid!</td>\n",
       "    </tr>\n",
       "  </tbody>\n",
       "</table>\n",
       "<p>491 rows × 6 columns</p>\n",
       "</div>"
      ],
      "text/plain": [
       "                            complaint                              category  \\\n",
       "109                       Not my debt     Attempts to collect debt not owed   \n",
       "304     Report inaccurate information  Incorrect information on your report   \n",
       "2653    Not my information reporting.  Incorrect information on your report   \n",
       "2707                  Not my accounts  Incorrect information on your report   \n",
       "2781            called company XX/XX/     Attempts to collect debt not owed   \n",
       "...                               ...                                   ...   \n",
       "352600    XX/XX/2018 amount owed XXXX     Attempts to collect debt not owed   \n",
       "352978          Account has been paid     Attempts to collect debt not owed   \n",
       "353064               This is not mine     Attempts to collect debt not owed   \n",
       "353353                 NO ANSWER EVER     Attempts to collect debt not owed   \n",
       "353374            This debt was paid!     Attempts to collect debt not owed   \n",
       "\n",
       "        word_count  char_count  avg_word_len                complaint_clean  \n",
       "109              3          11      3.666667                    Not my debt  \n",
       "304              3          29      9.666667  Report inaccurate information  \n",
       "2653             4          29      7.250000  Not my information reporting.  \n",
       "2707             3          15      5.000000                Not my accounts  \n",
       "2781             3          21      7.000000                called company   \n",
       "...            ...         ...           ...                            ...  \n",
       "352600           4          27      6.750000              2018 amount owed   \n",
       "352978           4          21      5.250000          Account has been paid  \n",
       "353064           4          16      4.000000               This is not mine  \n",
       "353353           3          14      4.666667                 NO ANSWER EVER  \n",
       "353374           4          19      4.750000            This debt was paid!  \n",
       "\n",
       "[491 rows x 6 columns]"
      ]
     },
     "execution_count": 3,
     "metadata": {},
     "output_type": "execute_result"
    }
   ],
   "source": [
    "complaints.loc[complaints['word_count'] < 5]"
   ]
  },
  {
   "cell_type": "code",
   "execution_count": 4,
   "id": "64c7678c",
   "metadata": {},
   "outputs": [],
   "source": [
    "complaints['category_id'] = complaints['category'].factorize()[0]"
   ]
  },
  {
   "cell_type": "code",
   "execution_count": 5,
   "id": "f979dbf3",
   "metadata": {},
   "outputs": [
    {
     "data": {
      "text/plain": [
       "(353432, 9117)"
      ]
     },
     "execution_count": 5,
     "metadata": {},
     "output_type": "execute_result"
    }
   ],
   "source": [
    "tfidf = TfidfVectorizer(sublinear_tf=True, min_df=500, norm='l2', encoding='latin-1', ngram_range=(1, 2), stop_words='english')\n",
    "features = tfidf.fit_transform(complaints['complaint']).toarray()\n",
    "labels = complaints['category_id']\n",
    "features.shape"
   ]
  },
  {
   "cell_type": "code",
   "execution_count": 6,
   "id": "74e5ea5a",
   "metadata": {},
   "outputs": [],
   "source": [
    "category_id_df = complaints[['category', 'category_id']].drop_duplicates().sort_values('category_id')\n",
    "category_to_id = dict(category_id_df.values)\n",
    "id_to_category = dict(category_id_df[['category_id', 'category']].values)"
   ]
  },
  {
   "cell_type": "code",
   "execution_count": 9,
   "id": "f46a342a",
   "metadata": {},
   "outputs": [
    {
     "name": "stdout",
     "output_type": "stream",
     "text": [
      "# 'Attempts to collect debt not owed':\n",
      "  . Most correlated unigrams:\n",
      ". collection\n",
      ". debt\n",
      "  . Most correlated bigrams:\n",
      ". collection agency\n",
      ". collect debt\n",
      "# 'Communication tactics':\n",
      "  . Most correlated unigrams:\n",
      ". calls\n",
      ". calling\n",
      "  . Most correlated bigrams:\n",
      ". stop calling\n",
      ". times day\n",
      "# 'Fraud or scam':\n",
      "  . Most correlated unigrams:\n",
      ". paypal\n",
      ". coinbase\n",
      "  . Most correlated bigrams:\n",
      ". sent money\n",
      ". cash app\n",
      "# 'Incorrect information on your report':\n",
      "  . Most correlated unigrams:\n",
      ". calling\n",
      ". debt\n",
      "  . Most correlated bigrams:\n",
      ". times day\n",
      ". collect debt\n",
      "# 'Struggling to pay mortgage':\n",
      "  . Most correlated unigrams:\n",
      ". foreclosure\n",
      ". modification\n",
      "  . Most correlated bigrams:\n",
      ". short sale\n",
      ". loan modification\n"
     ]
    }
   ],
   "source": [
    "from sklearn.feature_selection import chi2\n",
    "import numpy as np\n",
    "N = 2\n",
    "for category, category_id in sorted(category_to_id.items()):\n",
    "  features_chi2 = chi2(features, labels == category_id)\n",
    "  indices = np.argsort(features_chi2[0])\n",
    "  feature_names = np.array(tfidf.get_feature_names_out())[indices]\n",
    "  unigrams = [v for v in feature_names if len(v.split(' ')) == 1]\n",
    "  bigrams = [v for v in feature_names if len(v.split(' ')) == 2]\n",
    "  print(\"# '{}':\".format(category))\n",
    "  print(\"  . Most correlated unigrams:\\n. {}\".format('\\n. '.join(unigrams[-N:])))\n",
    "  print(\"  . Most correlated bigrams:\\n. {}\".format('\\n. '.join(bigrams[-N:])))"
   ]
  },
  {
   "cell_type": "code",
   "execution_count": null,
   "id": "945f1268",
   "metadata": {},
   "outputs": [],
   "source": []
  }
 ],
 "metadata": {
  "kernelspec": {
   "display_name": "Python 3 (ipykernel)",
   "language": "python",
   "name": "python3"
  },
  "language_info": {
   "codemirror_mode": {
    "name": "ipython",
    "version": 3
   },
   "file_extension": ".py",
   "mimetype": "text/x-python",
   "name": "python",
   "nbconvert_exporter": "python",
   "pygments_lexer": "ipython3",
   "version": "3.9.16"
  }
 },
 "nbformat": 4,
 "nbformat_minor": 5
}
