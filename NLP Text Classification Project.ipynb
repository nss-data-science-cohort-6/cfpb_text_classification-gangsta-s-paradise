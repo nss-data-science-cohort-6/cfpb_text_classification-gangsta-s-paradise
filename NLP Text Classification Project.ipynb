{
 "cells": [
  {
   "cell_type": "code",
   "execution_count": 39,
   "id": "90d6972b",
   "metadata": {},
   "outputs": [],
   "source": [
    "import pandas as pd\n",
    "from sklearn.model_selection import train_test_split\n",
    "from sklearn.metrics import accuracy_score, confusion_matrix\n",
    "from nltk.tokenize import sent_tokenize, word_tokenize, regexp_tokenize\n",
    "import nltk\n",
    "import re\n",
    "import numpy as np\n",
    "import matplotlib.pyplot as plt\n",
    "from sklearn.feature_extraction.text import CountVectorizer, TfidfVectorizer\n",
    "import seaborn as sns\n",
    "from sklearn.linear_model import LogisticRegression\n",
    "from sklearn.metrics.pairwise import cosine_similarity\n",
    "from collections import Counter"
   ]
  },
  {
   "cell_type": "code",
   "execution_count": 22,
   "id": "45bb66f6",
   "metadata": {},
   "outputs": [],
   "source": [
    "complaints = pd.read_csv('complaints.csv')"
   ]
  },
  {
   "cell_type": "code",
   "execution_count": 23,
   "id": "b0ff2384",
   "metadata": {},
   "outputs": [
    {
     "name": "stdout",
     "output_type": "stream",
     "text": [
      "<class 'pandas.core.frame.DataFrame'>\n",
      "RangeIndex: 353432 entries, 0 to 353431\n",
      "Data columns (total 2 columns):\n",
      " #   Column                        Non-Null Count   Dtype \n",
      "---  ------                        --------------   ----- \n",
      " 0   Consumer complaint narrative  353432 non-null  object\n",
      " 1   Issue                         353432 non-null  object\n",
      "dtypes: object(2)\n",
      "memory usage: 5.4+ MB\n"
     ]
    }
   ],
   "source": [
    "complaints.info()"
   ]
  },
  {
   "cell_type": "code",
   "execution_count": 25,
   "id": "5120fc12",
   "metadata": {},
   "outputs": [],
   "source": [
    "complaints[['Consumer complaint narrative', 'Issue']] = complaints[['Consumer complaint narrative', 'Issue']].astype('str')"
   ]
  },
  {
   "cell_type": "code",
   "execution_count": 26,
   "id": "6812c11f",
   "metadata": {
    "scrolled": true
   },
   "outputs": [
    {
     "data": {
      "text/html": [
       "<div>\n",
       "<style scoped>\n",
       "    .dataframe tbody tr th:only-of-type {\n",
       "        vertical-align: middle;\n",
       "    }\n",
       "\n",
       "    .dataframe tbody tr th {\n",
       "        vertical-align: top;\n",
       "    }\n",
       "\n",
       "    .dataframe thead th {\n",
       "        text-align: right;\n",
       "    }\n",
       "</style>\n",
       "<table border=\"1\" class=\"dataframe\">\n",
       "  <thead>\n",
       "    <tr style=\"text-align: right;\">\n",
       "      <th></th>\n",
       "      <th>Consumer complaint narrative</th>\n",
       "    </tr>\n",
       "    <tr>\n",
       "      <th>Issue</th>\n",
       "      <th></th>\n",
       "    </tr>\n",
       "  </thead>\n",
       "  <tbody>\n",
       "    <tr>\n",
       "      <th>Incorrect information on your report</th>\n",
       "      <td>229305</td>\n",
       "    </tr>\n",
       "    <tr>\n",
       "      <th>Attempts to collect debt not owed</th>\n",
       "      <td>73163</td>\n",
       "    </tr>\n",
       "    <tr>\n",
       "      <th>Communication tactics</th>\n",
       "      <td>21243</td>\n",
       "    </tr>\n",
       "    <tr>\n",
       "      <th>Struggling to pay mortgage</th>\n",
       "      <td>17374</td>\n",
       "    </tr>\n",
       "    <tr>\n",
       "      <th>Fraud or scam</th>\n",
       "      <td>12347</td>\n",
       "    </tr>\n",
       "  </tbody>\n",
       "</table>\n",
       "</div>"
      ],
      "text/plain": [
       "                                      Consumer complaint narrative\n",
       "Issue                                                             \n",
       "Incorrect information on your report                        229305\n",
       "Attempts to collect debt not owed                            73163\n",
       "Communication tactics                                        21243\n",
       "Struggling to pay mortgage                                   17374\n",
       "Fraud or scam                                                12347"
      ]
     },
     "execution_count": 26,
     "metadata": {},
     "output_type": "execute_result"
    }
   ],
   "source": [
    "complaints.groupby('Issue').count().sort_values('Consumer complaint narrative', ascending = False)"
   ]
  },
  {
   "cell_type": "code",
   "execution_count": 27,
   "id": "c22f473a",
   "metadata": {
    "scrolled": true
   },
   "outputs": [
    {
     "name": "stdout",
     "output_type": "stream",
     "text": [
      "0          14\n",
      "1          36\n",
      "2           5\n",
      "3          96\n",
      "4           5\n",
      "         ... \n",
      "353427      2\n",
      "353428     83\n",
      "353429     73\n",
      "353430    125\n",
      "353431      1\n",
      "Name: num_capitalized_words, Length: 353432, dtype: int64\n"
     ]
    }
   ],
   "source": [
    "# Define a regular expression pattern to match capitalized words\n",
    "pattern = r'\\b[A-Z][a-z]*\\b'\n",
    "\n",
    "# Define a function to count the number of capitalized words in a string\n",
    "def count_capitalized_words(string):\n",
    "    return len(re.findall(pattern, string))\n",
    "\n",
    "# Apply the function to the 'strings' column\n",
    "complaints['num_capitalized_words'] = complaints['Consumer complaint narrative'].apply(count_capitalized_words)\n",
    "\n",
    "# Output the result\n",
    "print(complaints['num_capitalized_words'])"
   ]
  },
  {
   "cell_type": "code",
   "execution_count": 35,
   "id": "ee4454c3",
   "metadata": {},
   "outputs": [],
   "source": [
    "Capital_Counts_by_Issue = pd.DataFrame(complaints.groupby('Issue')['num_capitalized_words'].sum())"
   ]
  },
  {
   "cell_type": "code",
   "execution_count": 38,
   "id": "8eae591d",
   "metadata": {},
   "outputs": [
    {
     "data": {
      "text/html": [
       "<div>\n",
       "<style scoped>\n",
       "    .dataframe tbody tr th:only-of-type {\n",
       "        vertical-align: middle;\n",
       "    }\n",
       "\n",
       "    .dataframe tbody tr th {\n",
       "        vertical-align: top;\n",
       "    }\n",
       "\n",
       "    .dataframe thead th {\n",
       "        text-align: right;\n",
       "    }\n",
       "</style>\n",
       "<table border=\"1\" class=\"dataframe\">\n",
       "  <thead>\n",
       "    <tr style=\"text-align: right;\">\n",
       "      <th></th>\n",
       "      <th>num_capitalized_words</th>\n",
       "    </tr>\n",
       "    <tr>\n",
       "      <th>Issue</th>\n",
       "      <th></th>\n",
       "    </tr>\n",
       "  </thead>\n",
       "  <tbody>\n",
       "    <tr>\n",
       "      <th>Attempts to collect debt not owed</th>\n",
       "      <td>1331140</td>\n",
       "    </tr>\n",
       "    <tr>\n",
       "      <th>Communication tactics</th>\n",
       "      <td>285371</td>\n",
       "    </tr>\n",
       "    <tr>\n",
       "      <th>Fraud or scam</th>\n",
       "      <td>298690</td>\n",
       "    </tr>\n",
       "    <tr>\n",
       "      <th>Incorrect information on your report</th>\n",
       "      <td>3936388</td>\n",
       "    </tr>\n",
       "    <tr>\n",
       "      <th>Struggling to pay mortgage</th>\n",
       "      <td>584395</td>\n",
       "    </tr>\n",
       "  </tbody>\n",
       "</table>\n",
       "</div>"
      ],
      "text/plain": [
       "                                      num_capitalized_words\n",
       "Issue                                                      \n",
       "Attempts to collect debt not owed                   1331140\n",
       "Communication tactics                                285371\n",
       "Fraud or scam                                        298690\n",
       "Incorrect information on your report                3936388\n",
       "Struggling to pay mortgage                           584395"
      ]
     },
     "execution_count": 38,
     "metadata": {},
     "output_type": "execute_result"
    }
   ],
   "source": [
    "complaints['total_words'] = complaints.agg(\n",
    ")"
   ]
  },
  {
   "cell_type": "code",
   "execution_count": null,
   "id": "6b6b42da",
   "metadata": {},
   "outputs": [],
   "source": [
    "# Define a function to tokenize a string\n",
    "def tokenize_string(string):\n",
    "    return nltk.word_tokenize(string)\n",
    "\n",
    "# Apply the function to the 'strings' column\n",
    "complaints['complaint_tokens'] = complaints['Consumer complaint narrative'].apply(tokenize_string)\n",
    "\n",
    "# Output the result\n",
    "print(complaints['complaint_tokens'])"
   ]
  },
  {
   "cell_type": "code",
   "execution_count": null,
   "id": "c3053f57",
   "metadata": {},
   "outputs": [],
   "source": []
  }
 ],
 "metadata": {
  "kernelspec": {
   "display_name": "Python 3 (ipykernel)",
   "language": "python",
   "name": "python3"
  },
  "language_info": {
   "codemirror_mode": {
    "name": "ipython",
    "version": 3
   },
   "file_extension": ".py",
   "mimetype": "text/x-python",
   "name": "python",
   "nbconvert_exporter": "python",
   "pygments_lexer": "ipython3",
   "version": "3.9.16"
  }
 },
 "nbformat": 4,
 "nbformat_minor": 5
}
